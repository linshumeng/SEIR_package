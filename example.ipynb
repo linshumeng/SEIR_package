{
 "cells": [
  {
   "cell_type": "markdown",
   "source": "# Import packages\nThe package can be installed and imported using the coding below. Numpy is also imported to generate the time span. ",
   "metadata": {
    "cell_id": "0e762e5f63f04e6c9c38741f41c873cd",
    "tags": [],
    "deepnote_cell_type": "markdown",
    "deepnote_cell_height": 142.78125
   }
  },
  {
   "cell_type": "code",
   "metadata": {
    "cell_id": "e1c1cda864674c4eb4da0ec87472fa0f",
    "tags": [],
    "deepnote_to_be_reexecuted": false,
    "source_hash": "c1602918",
    "execution_start": 1651290769710,
    "execution_millis": 6164,
    "deepnote_cell_type": "code",
    "deepnote_cell_height": 490.21875
   },
   "source": "! pip install -e src/\nfrom src.seis import seis\nimport numpy as np",
   "execution_count": 1,
   "outputs": [
    {
     "name": "stdout",
     "text": "Obtaining file:///work/project-linshumeng/src\nRequirement already satisfied: matplotlib in /shared-libs/python3.7/py/lib/python3.7/site-packages (from seis==0.0.1) (3.5.1)\nRequirement already satisfied: numpy in /shared-libs/python3.7/py/lib/python3.7/site-packages (from seis==0.0.1) (1.21.6)\nRequirement already satisfied: scipy in /shared-libs/python3.7/py/lib/python3.7/site-packages (from seis==0.0.1) (1.7.3)\nRequirement already satisfied: fonttools>=4.22.0 in /shared-libs/python3.7/py/lib/python3.7/site-packages (from matplotlib->seis==0.0.1) (4.32.0)\nRequirement already satisfied: kiwisolver>=1.0.1 in /shared-libs/python3.7/py/lib/python3.7/site-packages (from matplotlib->seis==0.0.1) (1.4.2)\nRequirement already satisfied: pillow>=6.2.0 in /shared-libs/python3.7/py/lib/python3.7/site-packages (from matplotlib->seis==0.0.1) (9.1.0)\nRequirement already satisfied: packaging>=20.0 in /shared-libs/python3.7/py/lib/python3.7/site-packages (from matplotlib->seis==0.0.1) (21.3)\nRequirement already satisfied: cycler>=0.10 in /shared-libs/python3.7/py/lib/python3.7/site-packages (from matplotlib->seis==0.0.1) (0.11.0)\nRequirement already satisfied: python-dateutil>=2.7 in /shared-libs/python3.7/py-core/lib/python3.7/site-packages (from matplotlib->seis==0.0.1) (2.8.2)\nRequirement already satisfied: pyparsing>=2.2.1 in /shared-libs/python3.7/py/lib/python3.7/site-packages (from matplotlib->seis==0.0.1) (3.0.8)\nRequirement already satisfied: typing-extensions; python_version < \"3.8\" in /shared-libs/python3.7/py-core/lib/python3.7/site-packages (from kiwisolver>=1.0.1->matplotlib->seis==0.0.1) (4.2.0)\nRequirement already satisfied: six>=1.5 in /shared-libs/python3.7/py-core/lib/python3.7/site-packages (from python-dateutil>=2.7->matplotlib->seis==0.0.1) (1.16.0)\nInstalling collected packages: seis\n  Running setup.py develop for seis\nSuccessfully installed seis\n\u001b[33mWARNING: You are using pip version 20.1.1; however, version 22.0.4 is available.\nYou should consider upgrading via the '/root/venv/bin/python -m pip install --upgrade pip' command.\u001b[0m\n",
     "output_type": "stream"
    }
   ]
  },
  {
   "cell_type": "markdown",
   "source": "# Define β, γ functions and other input parameters\nThe input parameters β and γ should be defined as the function of time, even though a constant value is needed.\n\nTotal population and time span should also be defined.",
   "metadata": {
    "cell_id": "92888b06cb394d448ebf01ba0a88befb",
    "tags": [],
    "deepnote_cell_type": "markdown",
    "deepnote_cell_height": 231.1875
   }
  },
  {
   "cell_type": "code",
   "metadata": {
    "cell_id": "03e6e063fdf2493782949fe94ab2490e",
    "tags": [],
    "deepnote_to_be_reexecuted": false,
    "source_hash": "5affe216",
    "execution_start": 1651290775881,
    "execution_millis": 10,
    "deepnote_cell_type": "code",
    "deepnote_cell_height": 567
   },
   "source": "# beta changes with time\ndef beta_t(t):\n    if t <= 50:\n        beta = 0.35\n    elif t <= 100:\n        beta = 0.3\n    elif t <= 150:\n        beta = 0.25\n    elif t <= 200:\n        beta = 0.38\n    elif t <= 250:\n        beta = 0.35\n    elif t <= 300:\n        beta = 0.5\n    else:\n        beta = 0.65        \n    return beta\n\n# gamma can be assumed to be a constant, but function is needed\ndef gamma_t(k):\n    return 0.6\n\n# total population in the system\nN = 20000 \n\n# define the time span\nt_end = 360\nt_span = np.linspace(0, t_end, t_end - 0 + 1)",
   "execution_count": 2,
   "outputs": []
  },
  {
   "cell_type": "markdown",
   "source": "# Call function to deal with the model\nHere, 6 arguments (4 positional arguments and 2 keyword arguments) should be passed into the function. The meaning of them can be checked in the readme file.",
   "metadata": {
    "cell_id": "b79f886632b24e50835946aac7586929",
    "tags": [],
    "deepnote_cell_type": "markdown",
    "deepnote_cell_height": 194.78125
   }
  },
  {
   "cell_type": "code",
   "metadata": {
    "cell_id": "4d30f5fab3be4630a82662906cf5ef1d",
    "tags": [],
    "deepnote_to_be_reexecuted": false,
    "source_hash": "dee27823",
    "execution_start": 1651290775893,
    "execution_millis": 0,
    "owner_user_id": "50f12c1e-990a-44d1-a373-971a5163e134",
    "deepnote_cell_type": "code",
    "deepnote_cell_height": 81
   },
   "source": "model = seis.SEIS(n_pop = N, beta = beta_t, gamma = gamma_t, tspan = t_span)",
   "execution_count": 3,
   "outputs": []
  },
  {
   "cell_type": "markdown",
   "source": "# Check the input status\nWe can check the input status using SEIS.input_detail() function. The meaning of the inputs can be printed. Incubation period is the inverse of α, and the recovery period is the inverse of λ.",
   "metadata": {
    "cell_id": "cbd212bd94fd404f95e1e5be0547eb9a",
    "tags": [],
    "deepnote_cell_type": "markdown",
    "deepnote_cell_height": 142.78125
   }
  },
  {
   "cell_type": "code",
   "metadata": {
    "cell_id": "71fb62d82a174bd7888dd1f907fbff2f",
    "tags": [],
    "deepnote_to_be_reexecuted": false,
    "source_hash": "39a369ba",
    "execution_start": 1651290775901,
    "execution_millis": 1,
    "deepnote_cell_type": "code",
    "deepnote_cell_height": 151.59375
   },
   "source": "model.input_detail()",
   "execution_count": 4,
   "outputs": [
    {
     "name": "stdout",
     "text": "The total population is 20000 people.\nThe incubation period is 5.0 days.\nThe recovery period is 7.0 days.\n",
     "output_type": "stream"
    }
   ]
  },
  {
   "cell_type": "markdown",
   "source": "# Check the initial condition\nBefore we run the ode, the SEIS.initial_condition() should be run first to generate the initial condition for this problem.\nIt will also print the initial conditions.",
   "metadata": {
    "cell_id": "ef13870f81a94c5ba4783b947f2bb4e2",
    "tags": [],
    "deepnote_cell_type": "markdown",
    "deepnote_cell_height": 142.78125
   }
  },
  {
   "cell_type": "code",
   "metadata": {
    "cell_id": "272380d1703a40a795088e78461dee50",
    "tags": [],
    "deepnote_to_be_reexecuted": false,
    "source_hash": "39555866",
    "execution_start": 1651290775912,
    "execution_millis": 41,
    "deepnote_cell_type": "code",
    "deepnote_cell_height": 183.90625,
    "deepnote_output_heights": [
     null,
     21.1875
    ]
   },
   "source": "model.initial_condition()",
   "execution_count": 5,
   "outputs": [
    {
     "name": "stdout",
     "text": "The initial conditions for s, e, i, r are\n[9.9995e-01 0.0000e+00 5.0000e-05 0.0000e+00] respectively.\n",
     "output_type": "stream"
    },
    {
     "output_type": "execute_result",
     "execution_count": 5,
     "data": {
      "text/plain": "array([9.9995e-01, 0.0000e+00, 5.0000e-05, 0.0000e+00])"
     },
     "metadata": {}
    }
   ]
  },
  {
   "cell_type": "markdown",
   "source": "# Result",
   "metadata": {
    "cell_id": "ad30240941ec454b959e34058f0cfec3",
    "tags": [],
    "deepnote_cell_type": "markdown",
    "deepnote_cell_height": 82
   }
  },
  {
   "cell_type": "markdown",
   "source": "The shape of the output is a (t, 4) array. t is constant with the length of the time span. The four columns are the s, e, i, r respectively. ",
   "metadata": {
    "cell_id": "b5e4cf4f26b24471b5747e92b678a172",
    "tags": [],
    "deepnote_cell_type": "markdown",
    "deepnote_cell_height": 74.78125
   }
  },
  {
   "cell_type": "code",
   "metadata": {
    "cell_id": "b13b440a82fe4ef3bff68353e3438c64",
    "tags": [],
    "deepnote_to_be_reexecuted": false,
    "source_hash": "82aa4fe0",
    "execution_start": 1651290775954,
    "execution_millis": 529,
    "deepnote_cell_type": "code",
    "deepnote_cell_height": 136.1875,
    "deepnote_output_heights": [
     21.1875
    ]
   },
   "source": "sol = model.solution()\nsol.shape",
   "execution_count": 6,
   "outputs": [
    {
     "output_type": "execute_result",
     "execution_count": 6,
     "data": {
      "text/plain": "(361, 4)"
     },
     "metadata": {}
    }
   ]
  },
  {
   "cell_type": "markdown",
   "source": "The plot can be generated using fuction below. Arguments are mandatory and can be either 's', 'e', 'i', 'r' or combination of them. \n\nWhen other characters are passed into this function, a warning will be printed and no plot will be shown. ",
   "metadata": {
    "cell_id": "81134cb0d39348439e071bb6cc07031b",
    "tags": [],
    "deepnote_cell_type": "markdown",
    "deepnote_cell_height": 133.578125
   }
  },
  {
   "cell_type": "code",
   "metadata": {
    "cell_id": "146cee58a76541afaad2d9d6f52186b0",
    "tags": [],
    "deepnote_to_be_reexecuted": false,
    "source_hash": "fdddeecf",
    "execution_start": 1651290775955,
    "execution_millis": 529,
    "deepnote_cell_type": "code",
    "deepnote_cell_height": 405,
    "deepnote_output_heights": [
     308
    ]
   },
   "source": "model.plot('s', 'e', 'i', 'r')",
   "execution_count": 7,
   "outputs": [
    {
     "data": {
      "text/plain": "<Figure size 640x320 with 1 Axes>",
      "image/png": "[encoded data removed]"
     },
     "metadata": {
      "needs_background": "light",
      "image/png": {
       "width": 551,
       "height": 306
      }
     },
     "output_type": "display_data"
    }
   ]
  },
  {
   "cell_type": "code",
   "metadata": {
    "cell_id": "2d176d65cd94460d8714bf1a6af51771",
    "tags": [],
    "deepnote_to_be_reexecuted": false,
    "source_hash": "f011769f",
    "execution_start": 1651290776262,
    "execution_millis": 222,
    "deepnote_cell_type": "code",
    "deepnote_cell_height": 513.25,
    "deepnote_output_heights": [
     null,
     308
    ]
   },
   "source": "# pass strange character\nmodel.plot('a', 'b')",
   "execution_count": 8,
   "outputs": [
    {
     "name": "stderr",
     "text": "No artists with labels found to put in legend.  Note that artists whose label start with an underscore are ignored when legend() is called with no argument.\nWarning: No such argument, a\nWarning: No such argument, b\n",
     "output_type": "stream"
    },
    {
     "data": {
      "text/plain": "<Figure size 640x320 with 1 Axes>",
      "image/png": "[encoded data removed]"
     },
     "metadata": {
      "needs_background": "light",
      "image/png": {
       "width": 560,
       "height": 306
      }
     },
     "output_type": "display_data"
    }
   ]
  },
  {
   "cell_type": "markdown",
   "source": "We can also export the data as a .dat file using lines below. The output directory is result/result.dat. There should be five columns in this file. Each column is corresponding to time, s, e, i, r. ",
   "metadata": {
    "cell_id": "4c5118d2f0354dbda1bafad0dd4987cd",
    "tags": [],
    "deepnote_cell_type": "markdown",
    "deepnote_cell_height": 74.78125
   }
  },
  {
   "cell_type": "code",
   "metadata": {
    "cell_id": "d1a19bbb980042149879bcae45c3bad2",
    "tags": [],
    "deepnote_to_be_reexecuted": false,
    "source_hash": "2420149e",
    "execution_start": 1651290776488,
    "execution_millis": 2,
    "deepnote_cell_type": "code",
    "deepnote_cell_height": 111.859375
   },
   "source": "model.export()",
   "execution_count": 9,
   "outputs": [
    {
     "name": "stdout",
     "text": "Export Ready!\n",
     "output_type": "stream"
    }
   ]
  },
  {
   "cell_type": "markdown",
   "source": "<a style='text-decoration:none;line-height:16px;display:flex;color:#5B5B62;padding:10px;justify-content:end;' href='https://deepnote.com?utm_source=created-in-deepnote-cell&projectId=54e4341f-8ca4-4cf3-830f-02a68e628053' target=\"_blank\">\n<img alt='Created in deepnote.com' style='display:inline;max-height:16px;margin:0px;margin-right:7.5px;' src='data:image/svg+xml;base64,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' > </img>\nCreated in <span style='font-weight:600;margin-left:4px;'>Deepnote</span></a>",
   "metadata": {
    "tags": [],
    "created_in_deepnote_cell": true,
    "deepnote_cell_type": "markdown"
   }
  }
 ],
 "nbformat": 4,
 "nbformat_minor": 2,
 "metadata": {
  "orig_nbformat": 2,
  "deepnote": {},
  "deepnote_notebook_id": "6b008492-d869-4af3-a5d4-35a0c6ab2ddd",
  "deepnote_execution_queue": []
 }
}